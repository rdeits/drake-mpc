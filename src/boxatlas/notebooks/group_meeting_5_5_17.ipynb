{
 "cells": [
  {
   "cell_type": "code",
   "execution_count": 52,
   "metadata": {},
   "outputs": [
    {
     "name": "stdout",
     "output_type": "stream",
     "text": [
      "The autoreload extension is already loaded. To reload it, use:\n",
      "  %reload_ext autoreload\n",
      "Populating the interactive namespace from numpy and matplotlib\n"
     ]
    }
   ],
   "source": [
    "from __future__ import division, print_function\n",
    "%load_ext autoreload\n",
    "%autoreload 2\n",
    "%pylab inline\n",
    "# %pylab notebook\n",
    "# %load_ext wurlitzer\n",
    "# standard imports\n",
    "import matplotlib.pyplot as plt\n",
    "\n",
    "import time\n",
    "import numpy as np\n",
    "from collections import namedtuple\n",
    "from ipywidgets import interact, interactive, fixed, interact_manual\n",
    "import ipywidgets as widgets\n",
    "\n",
    "# drake + externals imports\n",
    "from director import viewerclient as vc\n",
    "from irispy import Polyhedron\n",
    "import pydrake.solvers.mathematicalprogram as mathematicalprogram\n",
    "\n",
    "# boxatlas\n",
    "import boxatlas.boxatlas as box\n",
    "from boxatlas.contactstabilization import BoxAtlasContactStabilization\n",
    "from boxatlas.contactstabilizationutils import ContactStabilizationUtils as CSU\n",
    "from utils.polynomial import Polynomial\n",
    "from utils.piecewise import Piecewise\n",
    "from boxatlas.boxatlascontroller import BoxAtlasController\n",
    "from boxatlas.contactstabilizationutils import BoxAtlasDefaults"
   ]
  },
  {
   "cell_type": "code",
   "execution_count": 113,
   "metadata": {},
   "outputs": [],
   "source": [
    "# construct a visualizer object\n",
    "vis = vc.Visualizer()\n",
    "vis.delete()\n",
    "\n",
    "def solve_opt_problem(options, initial_state=None, visualize=True):\n",
    "    controller = BoxAtlasController()\n",
    "    robot = controller.robot\n",
    "    \n",
    "    if initial_state is None:\n",
    "        initial_state = CSU.make_default_initial_state(robot)\n",
    "        initial_state.vcom[0] = -1.75 # set initial velocity of com\n",
    "        initial_state.contact_indicator = np.array([0,1,1,0], dtype=int)\n",
    "\n",
    "    num_time_steps = 20\n",
    "    T = 1.0\n",
    "    dt = T/num_time_steps\n",
    "    print(\"dt = \", dt)\n",
    "\n",
    "    # make contact assignments\n",
    "    constrained_limbs = dict()\n",
    "\n",
    "    if False:\n",
    "        constrained_limbs[\"right_leg\"] = 1  # persistent contact\n",
    "        constrained_limbs[\"left_leg\"] = 1  # persistent contact\n",
    "        constrained_limbs[\"right_arm\"] = 0  # no contact\n",
    "\n",
    "\n",
    "\n",
    "    contact_assignments = CSU.make_contact_assignment(dt, num_time_steps, constrained_limbs)\n",
    "\n",
    "    opt = controller.construct_contact_stabilization_optimization(initial_state,\n",
    "                                                                 num_time_steps=num_time_steps,\n",
    "                                                                 dt=dt,\n",
    "                                                                options=options,\n",
    "                                                                 contact_assignments=contact_assignments)\n",
    "    \n",
    "    solnData = opt.solve()\n",
    "    \n",
    "    if visualize:\n",
    "        vis.delete()\n",
    "        box.planPlayback(vis, solnData, slider=True)\n",
    "        print(\"solution took = \", solnData.solve_time)\n",
    "        CSU.plot_contact_indicator(solnData)\n",
    "    \n",
    "    \n",
    "    print(\"solution took = \", solnData.solve_time)\n",
    "    return solnData\n",
    "\n",
    "\n",
    "def runtime_analysis(solver_type, com_vel):\n",
    "    print(\"\\n\\n solver_type = \", solver_type)\n",
    "    assert solver_type in [\"normal\", \"lambda\"]\n",
    "    \n",
    "    options = dict()\n",
    "    if solver_type == \"normal\":\n",
    "        options['use_lambda_contact_formulation'] = False\n",
    "    \n",
    "    if solver_type == \"lambda\":\n",
    "        options['use_lambda_contact_formulation'] = True\n",
    "    \n",
    "    controller = BoxAtlasController()\n",
    "    robot = controller.robot\n",
    "    initial_state = CSU.make_default_initial_state(robot)\n",
    "    initial_state.contact_indicator = np.array([0,1,1,0], dtype=int)\n",
    "    \n",
    "    solve_time = range(len(com_vel))\n",
    "    for idx, v in enumerate(com_vel):\n",
    "        print(\"\\n com_vel = \", v)\n",
    "        initial_state.vcom[0] = v\n",
    "        solnData = solve_opt_problem(options, initial_state=initial_state,\n",
    "                                    visualize=False)\n",
    "        \n",
    "        solve_time[idx] = solnData.solve_time\n",
    "    \n",
    "    return solve_time\n",
    "    \n",
    "\n",
    "def runtime_comparison():\n",
    "    com_vel = [-1.0, -1.5, -1.75]\n",
    "#     com_vel = [-1.75]\n",
    "    \n",
    "    solver_list = [\"normal\", \"lambda\"]\n",
    "    d = dict()\n",
    "    for solver in solver_list:\n",
    "        d[solver] = runtime_analysis(solver, com_vel)\n",
    "        \n",
    "    returnDict = dict()\n",
    "    returnDict['times'] = d\n",
    "    returnDict['com_vel'] = com_vel\n",
    "    return returnDict\n",
    "\n",
    "def make_bar_chart(data):\n",
    "    com_vel = np.array( data['com_vel'])\n",
    "    times = data['times']\n",
    "    \n",
    "    fig, ax = plt.subplots()\n",
    "    \n",
    "    num_solvers = len(times)\n",
    "    N = len(com_vel)\n",
    "    x_base = np.array(range(0,N))\n",
    "    width = 1\n",
    "    delta_width = width*1.0/(num_solvers+1)\n",
    "    for idx, solver in enumerate(times):\n",
    "        x = x_base + delta_width*idx\n",
    "        print(x)\n",
    "        ax.bar(x, times[solver], delta_width, label=solver)\n",
    "        \n",
    "        \n",
    "    # make the xtick labels\n",
    "    x_labels = []\n",
    "    for v in com_vel:\n",
    "        x_labels.append(str(v))\n",
    "        \n",
    "    ax.set_xticks(x_base)\n",
    "    ax.set_xticklabels(x_labels)\n",
    "\n",
    "    plt.xlabel('initial com x-velocity')\n",
    "    plt.ylabel('solve time')\n",
    "    plt.legend()\n",
    "    plt.show()\n",
    "        \n",
    "    \n",
    "    \n",
    "    \n",
    "    "
   ]
  },
  {
   "cell_type": "code",
   "execution_count": 117,
   "metadata": {},
   "outputs": [
    {
     "name": "stdout",
     "output_type": "stream",
     "text": [
      "\n",
      "\n",
      " solver_type =  normal\n",
      "\n",
      " com_vel =  -1.0\n",
      "dt =  0.05\n",
      "contact assignments passed in\n",
      "solution took =  0.451463937759\n",
      "\n",
      " com_vel =  -1.5\n",
      "dt =  0.05\n",
      "contact assignments passed in\n",
      "solution took =  1.58671998978\n",
      "\n",
      " com_vel =  -1.75\n",
      "dt =  0.05\n",
      "contact assignments passed in\n",
      "solution took =  0.826800107956\n",
      "\n",
      "\n",
      " solver_type =  lambda\n",
      "\n",
      " com_vel =  -1.0\n",
      "dt =  0.05\n",
      "contact assignments passed in\n",
      "using lambda contact formulation\n",
      "solution took =  5.91137313843\n",
      "\n",
      " com_vel =  -1.5\n",
      "dt =  0.05\n",
      "contact assignments passed in\n",
      "using lambda contact formulation\n",
      "solution took =  2.43190312386\n",
      "\n",
      " com_vel =  -1.75\n",
      "dt =  0.05\n",
      "contact assignments passed in\n",
      "using lambda contact formulation\n",
      "solution took =  1.88045501709\n",
      "[ 0.  1.  2.]\n",
      "[ 0.33333333  1.33333333  2.33333333]\n"
     ]
    },
    {
     "data": {
      "image/png": "[encoded data removed]",
      "text/plain": [
       "<matplotlib.figure.Figure at 0x7f3d68786b90>"
      ]
     },
     "metadata": {},
     "output_type": "display_data"
    }
   ],
   "source": []
  },
  {
   "cell_type": "code",
   "execution_count": 115,
   "metadata": {},
   "outputs": [
    {
     "name": "stdout",
     "output_type": "stream",
     "text": [
      "[ 0.  1.  2.]\n",
      "[ 0.33333333  1.33333333  2.33333333]\n"
     ]
    },
    {
     "data": {
      "image/png": "[encoded data removed]",
      "text/plain": [
       "<matplotlib.figure.Figure at 0x7f3d703a8490>"
      ]
     },
     "metadata": {},
     "output_type": "display_data"
    }
   ],
   "source": [
    "make_bar_chart(data)\n",
    "a = [1,2,3]\n"
   ]
  },
  {
   "cell_type": "markdown",
   "metadata": {},
   "source": [
    "# Standard Formulation"
   ]
  },
  {
   "cell_type": "code",
   "execution_count": 108,
   "metadata": {},
   "outputs": [
    {
     "name": "stdout",
     "output_type": "stream",
     "text": [
      "dt =  0.05\n",
      "contact assignments passed in\n"
     ]
    },
    {
     "data": {
      "application/vnd.jupyter.widget-view+json": {
       "model_id": "97fff9f3fa0b4cbcbc7926f8e70a8d88"
      }
     },
     "metadata": {},
     "output_type": "display_data"
    },
    {
     "name": "stdout",
     "output_type": "stream",
     "text": [
      "solution took =  0.690792798996\n"
     ]
    },
    {
     "data": {
      "image/png": "[encoded data removed]",
      "text/plain": [
       "<matplotlib.figure.Figure at 0x7f3d68475290>"
      ]
     },
     "metadata": {},
     "output_type": "display_data"
    }
   ],
   "source": [
    "options = dict()\n",
    "options['use_lambda_contact_formulation'] = False\n",
    "solnData = solve_opt_problem(options)"
   ]
  },
  {
   "cell_type": "markdown",
   "metadata": {},
   "source": [
    "# Lambda Formulation"
   ]
  },
  {
   "cell_type": "code",
   "execution_count": 33,
   "metadata": {},
   "outputs": [
    {
     "name": "stdout",
     "output_type": "stream",
     "text": [
      "dt =  0.05\n",
      "contact assignments passed in\n",
      "using lambda contact formulation\n"
     ]
    },
    {
     "data": {
      "application/vnd.jupyter.widget-view+json": {
       "model_id": "d5b45c6783e649df92eb2952df31bcaf"
      }
     },
     "metadata": {},
     "output_type": "display_data"
    },
    {
     "name": "stdout",
     "output_type": "stream",
     "text": [
      "solution took =  7.0124361515\n"
     ]
    },
    {
     "data": {
      "image/png": "[encoded data removed]",
      "text/plain": [
       "<matplotlib.figure.Figure at 0x7f3d7033e910>"
      ]
     },
     "metadata": {},
     "output_type": "display_data"
    }
   ],
   "source": [
    "options = dict()\n",
    "options['use_lambda_contact_formulation'] = True\n",
    "solnData = solve_opt_problem(options)"
   ]
  },
  {
   "cell_type": "markdown",
   "metadata": {},
   "source": [
    "# Compare Perfomance of Normal and Lambda Formulations"
   ]
  },
  {
   "cell_type": "code",
   "execution_count": 118,
   "metadata": {},
   "outputs": [
    {
     "name": "stdout",
     "output_type": "stream",
     "text": [
      "\n",
      "\n",
      " solver_type =  normal\n",
      "\n",
      " com_vel =  -1.0\n",
      "dt =  0.05\n",
      "contact assignments passed in\n",
      "solution took =  0.529255151749\n",
      "\n",
      " com_vel =  -1.5\n",
      "dt =  0.05\n",
      "contact assignments passed in\n",
      "solution took =  1.58687400818\n",
      "\n",
      " com_vel =  -1.75\n",
      "dt =  0.05\n",
      "contact assignments passed in\n",
      "solution took =  0.729478120804\n",
      "\n",
      "\n",
      " solver_type =  lambda\n",
      "\n",
      " com_vel =  -1.0\n",
      "dt =  0.05\n",
      "contact assignments passed in\n",
      "using lambda contact formulation\n",
      "solution took =  5.06714820862\n",
      "\n",
      " com_vel =  -1.5\n",
      "dt =  0.05\n",
      "contact assignments passed in\n",
      "using lambda contact formulation\n",
      "solution took =  1.97896003723\n",
      "\n",
      " com_vel =  -1.75\n",
      "dt =  0.05\n",
      "contact assignments passed in\n",
      "using lambda contact formulation\n",
      "solution took =  1.92444705963\n",
      "[ 0.  1.  2.]\n",
      "[ 0.33333333  1.33333333  2.33333333]\n"
     ]
    },
    {
     "data": {
      "image/png": "[encoded data removed]",
      "text/plain": [
       "<matplotlib.figure.Figure at 0x7f3d705bfe90>"
      ]
     },
     "metadata": {},
     "output_type": "display_data"
    }
   ],
   "source": [
    "data = runtime_comparison()\n",
    "make_bar_chart(data)"
   ]
  },
  {
   "cell_type": "markdown",
   "metadata": {},
   "source": [
    "# Uncertainty about wall location"
   ]
  },
  {
   "cell_type": "code",
   "execution_count": null,
   "metadata": {
    "collapsed": true
   },
   "outputs": [],
   "source": [
    "# create visualization of this\n",
    "def draw_surface(surface, name, color):\n",
    "    verts2d = surface.pose_constraints.generatorPoints()\n",
    "    assert len(verts2d) == 2\n",
    "    length = np.linalg.norm(verts2d[1] - verts2d[0])\n",
    "    origin = 0.5 * (verts2d[0] + verts2d[1])\n",
    "    origin = [origin[0], 0, origin[1]]\n",
    "    box =vc.GeometryData(vc.Box(lengths=[length, length, 0.01]), color=color)\n",
    "    v = vis[\"test\"][name]\n",
    "    v.setgeometry(box)\n",
    "    angle = np.arctan2(verts2d[1][1] - verts2d[0][1],\n",
    "                       verts2d[1][0] - verts2d[0][0])\n",
    "    v.settransform(vc.transformations.rotation_matrix(angle, [0, 1, 0],origin).dot(vc.transformations.translation_matrix(origin)))\n",
    "\n",
    "    \n",
    "\n",
    "def make_left_wall(dist_to_wall, height=2):\n",
    "    mu_wall = 0.5\n",
    "    left_wall_surface = box.Surface(Polyhedron.fromBounds([dist_to_wall, 0],\n",
    "                                                          [dist_to_wall, height]),\n",
    "                    Polyhedron(np.array([[-mu_wall, -1], [-mu_wall, 1]]), np.array([0, 0])))\n",
    "    return left_wall_surface"
   ]
  },
  {
   "cell_type": "code",
   "execution_count": null,
   "metadata": {
    "collapsed": true
   },
   "outputs": [],
   "source": [
    "left_wall = make_left_wall(-0.6)\n",
    "alpha = 1.0\n",
    "red = [1,0,0,alpha]\n",
    "green = [0,1,0,alpha]\n",
    "blue = [0,0,1, alpha]\n",
    "\n",
    "delta = 0.1\n",
    "wall_dist = [-0.5, -0.5 - delta, -0.5 - 2*delta]\n",
    "colors = [green, red, blue]\n",
    "\n",
    "for idx, dist in enumerate(wall_dist):\n",
    "    height = 1.5 + (idx)*0.25\n",
    "    wall = make_left_wall(dist, height);\n",
    "    color = colors[idx]\n",
    "    name = \"wall_\" + str(idx)\n",
    "    draw_surface(wall, name, color)"
   ]
  },
  {
   "cell_type": "code",
   "execution_count": null,
   "metadata": {
    "collapsed": true
   },
   "outputs": [],
   "source": []
  },
  {
   "cell_type": "code",
   "execution_count": null,
   "metadata": {
    "collapsed": true
   },
   "outputs": [],
   "source": []
  }
 ],
 "metadata": {
  "kernelspec": {
   "display_name": "Python 2",
   "language": "python",
   "name": "python2"
  },
  "language_info": {
   "codemirror_mode": {
    "name": "ipython",
    "version": 2
   },
   "file_extension": ".py",
   "mimetype": "text/x-python",
   "name": "python",
   "nbconvert_exporter": "python",
   "pygments_lexer": "ipython2",
   "version": "2.7.6"
  }
 },
 "nbformat": 4,
 "nbformat_minor": 2
}
